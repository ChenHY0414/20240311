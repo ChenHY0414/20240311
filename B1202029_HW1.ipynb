{
  "nbformat": 4,
  "nbformat_minor": 0,
  "metadata": {
    "colab": {
      "provenance": []
    },
    "kernelspec": {
      "name": "python3",
      "display_name": "Python 3"
    },
    "language_info": {
      "name": "python"
    }
  },
  "cells": [
    {
      "cell_type": "code",
      "execution_count": 26,
      "metadata": {
        "colab": {
          "base_uri": "https://localhost:8080/"
        },
        "id": "cntBTvGSxUcP",
        "outputId": "3159afa5-bc5c-4f27-8e9f-be60e694d220"
      },
      "outputs": [
        {
          "output_type": "stream",
          "name": "stdout",
          "text": [
            "I'm a student\n"
          ]
        }
      ],
      "source": [
        "print(\"I'm a student\")"
      ]
    },
    {
      "cell_type": "code",
      "source": [
        "f=input('A之x座標')\n",
        "g=input('A之y座標')\n",
        "h=input('B之x座標')\n",
        "i=input('B之y座標')\n",
        "j=float(f)\n",
        "k=float(g)\n",
        "l=float(h)\n",
        "m=float(i)\n",
        "n=(j-l)**2\n",
        "o=(k-m)**2\n",
        "p=(n+o)**(1/2)\n",
        "print('AB的距離為',(p))"
      ],
      "metadata": {
        "colab": {
          "base_uri": "https://localhost:8080/"
        },
        "id": "UsOaLHeQxj5v",
        "outputId": "de3c53ae-2e86-4d0b-cc5a-698f6e8d3552"
      },
      "execution_count": 33,
      "outputs": [
        {
          "output_type": "stream",
          "name": "stdout",
          "text": [
            "A之x座標-2\n",
            "A之y座標3\n",
            "B之x座標1\n",
            "B之y座標7\n",
            "AB的距離為 5.0\n"
          ]
        }
      ]
    },
    {
      "cell_type": "code",
      "source": [
        "a=input('身高(公分)')\n",
        "b=input('體重(公斤)')\n",
        "c=float(a)\n",
        "c*=c/10000\n",
        "d=float(b)\n",
        "d/=c\n",
        "print('BMI為',(d))"
      ],
      "metadata": {
        "colab": {
          "base_uri": "https://localhost:8080/"
        },
        "id": "hgSR669FyEZ_",
        "outputId": "fa23874c-baef-4789-c05c-adfe0962476c"
      },
      "execution_count": 34,
      "outputs": [
        {
          "output_type": "stream",
          "name": "stdout",
          "text": [
            "身高(公分)175\n",
            "體重(公斤)60\n",
            "BMI為 19.591836734693874\n"
          ]
        }
      ]
    }
  ]
}